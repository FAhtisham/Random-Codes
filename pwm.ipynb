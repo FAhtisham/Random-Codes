{
 "cells": [
  {
   "cell_type": "code",
   "execution_count": 486,
   "metadata": {},
   "outputs": [],
   "source": [
    "\n",
    "def preprocess_data(path):\n",
    "    #reading motifs from a FASTA file\n",
    "    df = pd.read_csv(path, header=None)\n",
    "    #Converitng a dataframe into a numpy array\n",
    "    arr1= np.array(df.iloc[:,:])\n",
    "    newarr=[]\n",
    "    for i in range (len(arr1)):\n",
    "          temp=np.array_str(arr1[i])\n",
    "          temp2=filter(str.isalnum, temp)\n",
    "          arr2=np.array(list(temp2))\n",
    "          newarr.append(arr2)\n",
    "    mot=np.array(newarr)\n",
    "    type(mot)\n",
    "    return mot\n",
    "\n",
    "\n",
    "\n",
    "# Function to calculate Probability Frequency Matrix\n",
    "\n",
    "def pfm_compute(mot):\n",
    "    count_A=0\n",
    "    count_T=0\n",
    "    count_G=0\n",
    "    count_C=0\n",
    "\n",
    "    pfm=np.zeros([4,len_seq])\n",
    "    for i in range (len_seq):\n",
    "        count_A=0\n",
    "        count_T=0\n",
    "        count_G=0\n",
    "        count_C=0\n",
    "        for j in range (len(mot)):\n",
    "            if(mot[j:j+1,i:i+1]==\"A\"):\n",
    "                count_A=count_A+1\n",
    "            if(mot[j:j+1,i:i+1]==\"G\"):\n",
    "                count_G=count_G+1\n",
    "            if(mot[j:j+1,i:i+1]==\"C\"):\n",
    "                count_C=count_C+1\n",
    "            if(mot[j:j+1,i:i+1]==\"T\"):\n",
    "                count_T=count_T+1\n",
    "        \n",
    "        pfm[0:1,i:i+1]=count_A\n",
    "        pfm[1:2,i:i+1]=count_G\n",
    "        pfm[2:3,i:i+1]=count_T\n",
    "        pfm[3:4,i:i+1]=count_C\n",
    "    return pfm\n",
    "\n",
    "\n",
    "# Calculating ppm from pfm\n",
    "def ppm_compute(pfm):\n",
    "    ppm=np.divide(pfm,len(arr1))\n",
    "    return ppm\n",
    "\n",
    "\n",
    "# Calculating PWM from ppm\n",
    "def pwm_compute(ppm):\n",
    "    pwm=np.divide(ppm,0.25)\n",
    "    pwm=np.log(pwm) /np.log(2)\n",
    "    pwm[pwm < 0] = 0\n",
    "    return pwm\n",
    " \n",
    "\n"
   ]
  },
  {
   "cell_type": "code",
   "execution_count": 488,
   "metadata": {},
   "outputs": [
    {
     "name": "stdout",
     "output_type": "stream",
     "text": [
      "Position frequency matrix :  [[3. 6. 1. 0. 2. 4. 2. 1. 1. 2.]\n",
      " [1. 0. 4. 4. 3. 1. 6. 2. 3. 6.]\n",
      " [0. 0. 4. 5. 2. 3. 0. 3. 4. 2.]\n",
      " [6. 4. 1. 1. 3. 2. 2. 4. 2. 0.]]\n",
      "Position probability matrix :  [[0.3 0.6 0.1 0.  0.2 0.4 0.2 0.1 0.1 0.2]\n",
      " [0.1 0.  0.4 0.4 0.3 0.1 0.6 0.2 0.3 0.6]\n",
      " [0.  0.  0.4 0.5 0.2 0.3 0.  0.3 0.4 0.2]\n",
      " [0.6 0.4 0.1 0.1 0.3 0.2 0.2 0.4 0.2 0. ]]\n",
      "Position weight matrix:  [[0.26303441 1.26303441 0.         0.         0.         0.67807191\n",
      "  0.         0.         0.         0.        ]\n",
      " [0.         0.         0.67807191 0.67807191 0.26303441 0.\n",
      "  1.26303441 0.         0.26303441 1.26303441]\n",
      " [0.         0.         0.67807191 1.         0.         0.26303441\n",
      "  0.         0.26303441 0.67807191 0.        ]\n",
      " [1.26303441 0.67807191 0.         0.         0.26303441 0.\n",
      "  0.         0.67807191 0.         0.        ]]\n"
     ]
    },
    {
     "name": "stderr",
     "output_type": "stream",
     "text": [
      "C:\\Users\\Ahtisham Abbasi\\Anaconda3\\lib\\site-packages\\ipykernel_launcher.py:60: RuntimeWarning: divide by zero encountered in log\n"
     ]
    }
   ],
   "source": [
    "\n",
    "path=\"motifs.txt\"\n",
    "\n",
    "mot=preprocess_data(path)\n",
    "len_seq=mot.shape[1] \n",
    "print(\"Position frequency matrix : \", pfm_compute(mot))\n",
    "print(\"Position probability matrix : \", ppm_compute(pfm))\n",
    "print(\"Position weight matrix: \", pwm_compute(ppm))"
   ]
  }
 ],
 "metadata": {
  "kernelspec": {
   "display_name": "Python 3",
   "language": "python",
   "name": "python3"
  },
  "language_info": {
   "codemirror_mode": {
    "name": "ipython",
    "version": 3
   },
   "file_extension": ".py",
   "mimetype": "text/x-python",
   "name": "python",
   "nbconvert_exporter": "python",
   "pygments_lexer": "ipython3",
   "version": "3.7.4"
  }
 },
 "nbformat": 4,
 "nbformat_minor": 4
}
